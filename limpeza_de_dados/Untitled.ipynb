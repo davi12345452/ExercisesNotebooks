{
 "cells": [
  {
   "cell_type": "code",
   "execution_count": null,
   "id": "ed362ad5-8d00-405d-82c6-de1b26f40f6e",
   "metadata": {},
   "outputs": [],
   "source": [
    "dataFrame = pd.DataFrame(list_dadosTempo, columns = ['Aparencia', 'Temperatura', 'Umidade', 'Vento', 'Jogar'])"
   ]
  }
 ],
 "metadata": {
  "kernelspec": {
   "display_name": "Python 3 (ipykernel)",
   "language": "python",
   "name": "python3"
  },
  "language_info": {
   "codemirror_mode": {
    "name": "ipython",
    "version": 3
   },
   "file_extension": ".py",
   "mimetype": "text/x-python",
   "name": "python",
   "nbconvert_exporter": "python",
   "pygments_lexer": "ipython3",
   "version": "3.9.12"
  }
 },
 "nbformat": 4,
 "nbformat_minor": 5
}
